{
 "cells": [
  {
   "cell_type": "code",
   "execution_count": 1,
   "metadata": {},
   "outputs": [
    {
     "name": "stdout",
     "output_type": "stream",
     "text": [
      "Using device: cuda\n",
      "\n"
     ]
    }
   ],
   "source": [
    "from cnnlearning import *\n",
    "from learningutils import *\n",
    "from patchextraction import *\n",
    "from imageprosessing import *\n",
    "from nearest_neighbors import *\n",
    "from evaluation import *\n",
    "from classificationutils import *\n",
    "from sharedvariables import *\n",
    "from vesseldetection import *\n",
    "from generate_datasets import *\n",
    "import pathlib\n",
    "import os\n",
    "from train_model import train_model_demo\n",
    "\n",
    "device = torch.device('cuda' if torch.cuda.is_available() else 'cpu')\n",
    "print('Using device:', device)\n",
    "print()\n",
    "\n",
    "train_params = collections.OrderedDict(\n",
    "    epochs=4000,\n",
    "    lr = .001,\n",
    "    weight_decay=5e-4,\n",
    "    batch_size=1024 * 12,\n",
    "    do_early_stop=True,  # Optional default True\n",
    "    early_stop_patience=80,\n",
    "    learning_rate_scheduler_patience=20,\n",
    "    shuffle=True)"
   ]
  },
  {
   "cell_type": "code",
   "execution_count": null,
   "metadata": {},
   "outputs": [
    {
     "data": {
      "text/html": [
       "<div>\n",
       "<style scoped>\n",
       "    .dataframe tbody tr th:only-of-type {\n",
       "        vertical-align: middle;\n",
       "    }\n",
       "\n",
       "    .dataframe tbody tr th {\n",
       "        vertical-align: top;\n",
       "    }\n",
       "\n",
       "    .dataframe thead th {\n",
       "        text-align: right;\n",
       "    }\n",
       "</style>\n",
       "<table border=\"1\" class=\"dataframe\">\n",
       "  <thead>\n",
       "    <tr style=\"text-align: right;\">\n",
       "      <th></th>\n",
       "      <th>patch_size</th>\n",
       "      <th>do_hist_match</th>\n",
       "      <th>standardize data</th>\n",
       "      <th>nnp</th>\n",
       "    </tr>\n",
       "  </thead>\n",
       "  <tbody>\n",
       "    <tr>\n",
       "      <th>0</th>\n",
       "      <td>21</td>\n",
       "      <td>False</td>\n",
       "      <td>True</td>\n",
       "      <td>2</td>\n",
       "    </tr>\n",
       "  </tbody>\n",
       "</table>\n",
       "</div>"
      ],
      "text/plain": [
       "   patch_size  do_hist_match  standardize data  nnp\n",
       "0          21          False              True    2"
      ]
     },
     "metadata": {},
     "output_type": "display_data"
    },
    {
     "data": {
      "text/html": [
       "<div>\n",
       "<style scoped>\n",
       "    .dataframe tbody tr th:only-of-type {\n",
       "        vertical-align: middle;\n",
       "    }\n",
       "\n",
       "    .dataframe tbody tr th {\n",
       "        vertical-align: top;\n",
       "    }\n",
       "\n",
       "    .dataframe thead th {\n",
       "        text-align: right;\n",
       "    }\n",
       "</style>\n",
       "<table border=\"1\" class=\"dataframe\">\n",
       "  <thead>\n",
       "    <tr style=\"text-align: right;\">\n",
       "      <th></th>\n",
       "      <th>Highest training accuracy</th>\n",
       "      <th>Corresponding training loss</th>\n",
       "      <th>Highest training accuracy epoch</th>\n",
       "      <th>Highest validation accuracy</th>\n",
       "      <th>Corresponding validation loss</th>\n",
       "      <th>Highest validation accuracy epoch</th>\n",
       "    </tr>\n",
       "  </thead>\n",
       "  <tbody>\n",
       "    <tr>\n",
       "      <th>0</th>\n",
       "      <td>0.839506</td>\n",
       "      <td>0.000015</td>\n",
       "      <td>40</td>\n",
       "      <td>0.815032</td>\n",
       "      <td>0.000069</td>\n",
       "      <td>40</td>\n",
       "    </tr>\n",
       "  </tbody>\n",
       "</table>\n",
       "</div>"
      ],
      "text/plain": [
       "   Highest training accuracy  Corresponding training loss  \\\n",
       "0                   0.839506                     0.000015   \n",
       "\n",
       "   Highest training accuracy epoch  Highest validation accuracy  \\\n",
       "0                               40                     0.815032   \n",
       "\n",
       "   Corresponding validation loss  Highest validation accuracy epoch  \n",
       "0                       0.000069                                 40  "
      ]
     },
     "metadata": {},
     "output_type": "display_data"
    },
    {
     "data": {
      "text/html": [
       "<div>\n",
       "<style scoped>\n",
       "    .dataframe tbody tr th:only-of-type {\n",
       "        vertical-align: middle;\n",
       "    }\n",
       "\n",
       "    .dataframe tbody tr th {\n",
       "        vertical-align: top;\n",
       "    }\n",
       "\n",
       "    .dataframe thead th {\n",
       "        text-align: right;\n",
       "    }\n",
       "</style>\n",
       "<table border=\"1\" class=\"dataframe\">\n",
       "  <thead>\n",
       "    <tr style=\"text-align: right;\">\n",
       "      <th></th>\n",
       "      <th>learning rate</th>\n",
       "      <th>weight decay</th>\n",
       "      <th>epochs</th>\n",
       "      <th>batch_size</th>\n",
       "      <th>do_early_stop</th>\n",
       "      <th>early_stop_patience</th>\n",
       "      <th>learning_rate_scheduler_patience</th>\n",
       "      <th>shuffle</th>\n",
       "      <th>Trainset size</th>\n",
       "      <th>Validset size</th>\n",
       "    </tr>\n",
       "  </thead>\n",
       "  <tbody>\n",
       "    <tr>\n",
       "      <th>0</th>\n",
       "      <td>0.001</td>\n",
       "      <td>0.0005</td>\n",
       "      <td>4000</td>\n",
       "      <td>12288</td>\n",
       "      <td>True</td>\n",
       "      <td>80</td>\n",
       "      <td>20</td>\n",
       "      <td>True</td>\n",
       "      <td>23895</td>\n",
       "      <td>5974</td>\n",
       "    </tr>\n",
       "  </tbody>\n",
       "</table>\n",
       "</div>"
      ],
      "text/plain": [
       "   learning rate  weight decay  epochs  batch_size  do_early_stop  \\\n",
       "0          0.001        0.0005    4000       12288           True   \n",
       "\n",
       "   early_stop_patience  learning_rate_scheduler_patience  shuffle  \\\n",
       "0                   80                                20     True   \n",
       "\n",
       "   Trainset size  Validset size   \n",
       "0          23895            5974  "
      ]
     },
     "metadata": {},
     "output_type": "display_data"
    },
    {
     "data": {
      "text/html": [
       "<div>\n",
       "<style scoped>\n",
       "    .dataframe tbody tr th:only-of-type {\n",
       "        vertical-align: middle;\n",
       "    }\n",
       "\n",
       "    .dataframe tbody tr th {\n",
       "        vertical-align: top;\n",
       "    }\n",
       "\n",
       "    .dataframe thead th {\n",
       "        text-align: right;\n",
       "    }\n",
       "</style>\n",
       "<table border=\"1\" class=\"dataframe\">\n",
       "  <thead>\n",
       "    <tr style=\"text-align: right;\">\n",
       "      <th></th>\n",
       "      <th>epoch</th>\n",
       "      <th>train loss</th>\n",
       "      <th>valid loss</th>\n",
       "      <th>train accuracy</th>\n",
       "      <th>valid accuracy</th>\n",
       "      <th>Best Loss?</th>\n",
       "      <th>Best Accuracy?</th>\n",
       "      <th>Model Recorded?</th>\n",
       "      <th>Times since last best loss</th>\n",
       "      <th>Times since last best accuracy</th>\n",
       "      <th>lr</th>\n",
       "      <th>weight_decay</th>\n",
       "    </tr>\n",
       "  </thead>\n",
       "  <tbody>\n",
       "    <tr>\n",
       "      <th>0</th>\n",
       "      <td>0</td>\n",
       "      <td>0.000031</td>\n",
       "      <td>0.000116</td>\n",
       "      <td>0.526930</td>\n",
       "      <td>0.498661</td>\n",
       "      <td>True</td>\n",
       "      <td>True</td>\n",
       "      <td>True</td>\n",
       "      <td>0</td>\n",
       "      <td>0</td>\n",
       "      <td>0.001</td>\n",
       "      <td>0.0005</td>\n",
       "    </tr>\n",
       "    <tr>\n",
       "      <th>1</th>\n",
       "      <td>20</td>\n",
       "      <td>0.000017</td>\n",
       "      <td>0.000091</td>\n",
       "      <td>0.817284</td>\n",
       "      <td>0.728825</td>\n",
       "      <td>True</td>\n",
       "      <td>True</td>\n",
       "      <td>True</td>\n",
       "      <td>0</td>\n",
       "      <td>0</td>\n",
       "      <td>0.001</td>\n",
       "      <td>0.0005</td>\n",
       "    </tr>\n",
       "    <tr>\n",
       "      <th>2</th>\n",
       "      <td>40</td>\n",
       "      <td>0.000015</td>\n",
       "      <td>0.000069</td>\n",
       "      <td>0.839506</td>\n",
       "      <td>0.815032</td>\n",
       "      <td>True</td>\n",
       "      <td>True</td>\n",
       "      <td>True</td>\n",
       "      <td>0</td>\n",
       "      <td>0</td>\n",
       "      <td>0.001</td>\n",
       "      <td>0.0005</td>\n",
       "    </tr>\n",
       "  </tbody>\n",
       "</table>\n",
       "</div>"
      ],
      "text/plain": [
       "   epoch  train loss  valid loss  train accuracy  valid accuracy  Best Loss?  \\\n",
       "0      0    0.000031    0.000116        0.526930        0.498661        True   \n",
       "1     20    0.000017    0.000091        0.817284        0.728825        True   \n",
       "2     40    0.000015    0.000069        0.839506        0.815032        True   \n",
       "\n",
       "   Best Accuracy?  Model Recorded?  Times since last best loss  \\\n",
       "0            True             True                           0   \n",
       "1            True             True                           0   \n",
       "2            True             True                           0   \n",
       "\n",
       "   Times since last best accuracy     lr  weight_decay  \n",
       "0                               0  0.001        0.0005  \n",
       "1                               0  0.001        0.0005  \n",
       "2                               0  0.001        0.0005  "
      ]
     },
     "metadata": {},
     "output_type": "display_data"
    },
    {
     "name": "stderr",
     "output_type": "stream",
     "text": [
      "  1%|██▏                                                                                                                                                                     | 52/4000 [01:44<2:08:24,  1.95s/it]"
     ]
    }
   ],
   "source": [
    "model, results = train_model_demo(patch_size=21,\n",
    "                 do_hist_match=False,\n",
    "                 n_negatives_per_positive=2,\n",
    "                 standardize_dataset=True,\n",
    "                 train_params=train_params,\n",
    "                 try_load_data_from_cache=True,\n",
    "                 try_load_model_from_cache=False,\n",
    "                )\n",
    "results.best_valid_accuracy"
   ]
  },
  {
   "cell_type": "code",
   "execution_count": null,
   "metadata": {},
   "outputs": [],
   "source": [
    "train_model_demo(patch_size=21, do_hist_match=True, n_negatives_per_positive=1, train_params=train_params)"
   ]
  },
  {
   "cell_type": "code",
   "execution_count": null,
   "metadata": {},
   "outputs": [],
   "source": [
    "train_model_demo(patch_size=21, do_hist_match=True, n_negatives_per_positive=2, train_params=train_params)"
   ]
  },
  {
   "cell_type": "code",
   "execution_count": null,
   "metadata": {},
   "outputs": [],
   "source": [
    "train_model_demo(patch_size=21, do_hist_match=False, n_negatives_per_positive=2, train_params=train_params)"
   ]
  },
  {
   "cell_type": "code",
   "execution_count": null,
   "metadata": {},
   "outputs": [],
   "source": [
    "train_model_demo(patch_size=21, do_hist_match=False, n_negatives_per_positive=3, train_params=train_params)"
   ]
  },
  {
   "cell_type": "code",
   "execution_count": null,
   "metadata": {},
   "outputs": [],
   "source": [
    "train_model_demo(patch_size=21, do_hist_match=True, n_negatives_per_positive=3, train_params=train_params)"
   ]
  },
  {
   "cell_type": "code",
   "execution_count": null,
   "metadata": {},
   "outputs": [],
   "source": [
    "train_model_demo(patch_size=19, do_hist_match=False, n_negatives_per_positive=1, train_params=train_params)"
   ]
  },
  {
   "cell_type": "code",
   "execution_count": null,
   "metadata": {},
   "outputs": [],
   "source": [
    "train_model_demo(patch_size=19, do_hist_match=True, n_negatives_per_positive=1, train_params=train_params)"
   ]
  },
  {
   "cell_type": "code",
   "execution_count": null,
   "metadata": {},
   "outputs": [],
   "source": [
    "train_model_demo(patch_size=19, do_hist_match=False, n_negatives_per_positive=3, train_params=train_params)"
   ]
  },
  {
   "cell_type": "code",
   "execution_count": null,
   "metadata": {},
   "outputs": [],
   "source": [
    "train_model_demo(patch_size=19, do_hist_match=True, n_negatives_per_positive=3, train_params=train_params)"
   ]
  },
  {
   "cell_type": "code",
   "execution_count": null,
   "metadata": {},
   "outputs": [],
   "source": []
  }
 ],
 "metadata": {
  "kernelspec": {
   "display_name": "Python 3",
   "language": "python",
   "name": "python3"
  },
  "language_info": {
   "codemirror_mode": {
    "name": "ipython",
    "version": 3
   },
   "file_extension": ".py",
   "mimetype": "text/x-python",
   "name": "python",
   "nbconvert_exporter": "python",
   "pygments_lexer": "ipython3",
   "version": "3.6.9"
  }
 },
 "nbformat": 4,
 "nbformat_minor": 2
}
