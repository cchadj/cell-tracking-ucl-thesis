{
 "cells": [
  {
   "cell_type": "code",
   "execution_count": null,
   "metadata": {},
   "outputs": [],
   "source": [
    "%load_ext autoreload\n",
    "%autoreload 2\n",
    "\n",
    "from cnnlearning import *\n",
    "from learningutils import *\n",
    "from patchextraction import *\n",
    "from imageprosessing import *\n",
    "from nearest_neighbors import *\n",
    "from evaluation import *\n",
    "from classificationutils import *\n",
    "from sharedvariables import *\n",
    "from vesseldetection import *\n",
    "from generate_datasets import *\n",
    "import pathlib\n",
    "import os\n",
    "from train_model import train_model_demo\n",
    "\n",
    "device = torch.device('cuda' if torch.cuda.is_available() else 'cpu')\n",
    "print('Using device:', device)\n",
    "print()\n",
    "\n",
    "train_params = collections.OrderedDict(\n",
    "    epochs=1000,\n",
    "    lr = .001,\n",
    "    weight_decay=5e-4,\n",
    "    batch_size=1024 * 12,\n",
    "    do_early_stop=True,  # Optional default True\n",
    "    early_stop_patience=50,\n",
    "    learning_rate_scheduler_patience=30,\n",
    "    shuffle=True)"
   ]
  },
  {
   "cell_type": "code",
   "execution_count": null,
   "metadata": {},
   "outputs": [],
   "source": [
    "model, results = train_model_demo(\n",
    "                 patch_size=31,\n",
    "                 temporal_width=1,\n",
    "                 do_hist_match=False,\n",
    "                 n_negatives_per_positive=3,\n",
    "                 standardize_dataset=True,\n",
    "                 train_params=train_params,\n",
    "                                  \n",
    "                 try_load_data_from_cache=True,\n",
    "                 try_load_model_from_cache=False,\n",
    "                )\n",
    "results.best_valid_accuracy"
   ]
  },
  {
   "cell_type": "code",
   "execution_count": null,
   "metadata": {},
   "outputs": [],
   "source": [
    "train_model_demo(patch_size=21, do_hist_match=True, n_negatives_per_positive=1, train_params=train_params)"
   ]
  },
  {
   "cell_type": "code",
   "execution_count": null,
   "metadata": {},
   "outputs": [],
   "source": [
    "train_model_demo(patch_size=21, do_hist_match=True, n_negatives_per_positive=2, train_params=train_params)"
   ]
  },
  {
   "cell_type": "code",
   "execution_count": null,
   "metadata": {},
   "outputs": [],
   "source": [
    "train_model_demo(patch_size=21, do_hist_match=False, n_negatives_per_positive=2, train_params=train_params)"
   ]
  },
  {
   "cell_type": "code",
   "execution_count": null,
   "metadata": {},
   "outputs": [],
   "source": [
    "train_model_demo(patch_size=21, do_hist_match=False, n_negatives_per_positive=3, train_params=train_params)"
   ]
  },
  {
   "cell_type": "code",
   "execution_count": null,
   "metadata": {},
   "outputs": [],
   "source": [
    "train_model_demo(patch_size=21, do_hist_match=True, n_negatives_per_positive=3, train_params=train_params)"
   ]
  },
  {
   "cell_type": "code",
   "execution_count": null,
   "metadata": {},
   "outputs": [],
   "source": [
    "train_model_demo(patch_size=19, do_hist_match=False, n_negatives_per_positive=1, train_params=train_params)"
   ]
  },
  {
   "cell_type": "code",
   "execution_count": null,
   "metadata": {},
   "outputs": [],
   "source": [
    "train_model_demo(patch_size=19, do_hist_match=True, n_negatives_per_positive=1, train_params=train_params)"
   ]
  },
  {
   "cell_type": "code",
   "execution_count": null,
   "metadata": {},
   "outputs": [],
   "source": [
    "train_model_demo(patch_size=19, do_hist_match=False, n_negatives_per_positive=3, train_params=train_params)"
   ]
  },
  {
   "cell_type": "code",
   "execution_count": null,
   "metadata": {},
   "outputs": [],
   "source": [
    "train_model_demo(patch_size=19, do_hist_match=True, n_negatives_per_positive=3, train_params=train_params)"
   ]
  },
  {
   "cell_type": "code",
   "execution_count": null,
   "metadata": {},
   "outputs": [],
   "source": []
  }
 ],
 "metadata": {
  "kernelspec": {
   "display_name": "Python 3",
   "language": "python",
   "name": "python3"
  },
  "language_info": {
   "codemirror_mode": {
    "name": "ipython",
    "version": 3
   },
   "file_extension": ".py",
   "mimetype": "text/x-python",
   "name": "python",
   "nbconvert_exporter": "python",
   "pygments_lexer": "ipython3",
   "version": "3.6.9"
  }
 },
 "nbformat": 4,
 "nbformat_minor": 2
}
