{
 "cells": [
  {
   "cell_type": "code",
   "execution_count": 1,
   "metadata": {},
   "outputs": [],
   "source": [
    "%load_ext autoreload\n",
    "%autoreload 2\n",
    "%matplotlib inline\n",
    "\n",
    "from cnnlearning import *\n",
    "from learningutils import *\n",
    "from cell_no_cell import *\n",
    "from patchextraction import *\n",
    "from imageprosessing import *\n",
    "from nearest_neighbors import *\n",
    "from evaluation import *\n",
    "from classificationutils import *\n",
    "from sharedvariables import *\n",
    "from vesseldetection import *\n",
    "from generate_datasets import *\n",
    "\n",
    "import os\n",
    "\n",
    "def dataset_creation_demo(patch_size = (21, 21), do_hist_match = False, n_negatives_per_positive = 3):\n",
    "\n",
    "    trainset, validset,\\\n",
    "    cell_images, non_cell_images,\\\n",
    "    cell_images_marked, non_cell_images_marked, hist_match_template =\\\n",
    "    get_cell_and_no_cell_patches(\n",
    "        patch_size=patch_size,\n",
    "        n_negatives_per_positive=n_negatives_per_positive,\n",
    "        do_hist_match=do_hist_match,\n",
    "    )\n",
    "\n",
    "    print(\"Cell images:\", cell_images.shape)\n",
    "    print(\"Non cell images\", non_cell_images.shape)"
   ]
  },
  {
   "cell_type": "code",
   "execution_count": 2,
   "metadata": {},
   "outputs": [
    {
     "name": "stdout",
     "output_type": "stream",
     "text": [
      "patch size (21, 21)\n",
      "do hist match: False\n",
      "Negatives per positive 3\n",
      "\n",
      "Dataset loading from cache\n",
      "--------------------------\n",
      "loading training set from '.\\data\\cache\\datasets\\trainset_bloodcells_ps_21_hm_false_npp_3.pt'...\n",
      "Not all data found fom cache. Creating datasets...\n",
      "Creating cell and no cell images from videos...\n"
     ]
    },
    {
     "data": {
      "application/vnd.jupyter.widget-view+json": {
       "model_id": "01027218c31141b0bf2377b229dd72a3",
       "version_major": 2,
       "version_minor": 0
      },
      "text/plain": [
       "HBox(children=(FloatProgress(value=0.0, max=10.0), HTML(value='')))"
      ]
     },
     "metadata": {},
     "output_type": "display_data"
    },
    {
     "name": "stdout",
     "output_type": "stream",
     "text": [
      ".\\data\\shared-videos\\Subject3_Session216_OD_(0,0)_1x1_980_OA790nm_dewarped.avi<->\n",
      ".\\data\\shared-videos\\Subject3_Session216_OD_(0,0)_1x1_980_OA790nm_marked.csv\n",
      ".\\data\\shared-videos\\Subject50_Session385_OD_(0,-1)_1.04x1.04_3247_OA790nm.avi<->\n",
      ".\\data\\shared-videos\\Subject50_Session385_OD_(0,-1)_1.04x1.04_3247_OA790nm_marked.csv\n",
      ".\\data\\registered-videos-2\\Subject25_Session298_OD_(-2,0)_1.03x1_1642_OA790nm_dewarped1_extract_reg_cropped.avi<->\n",
      ".\\data\\registered-videos-2\\marked\\Subject25_Session298_OD_(-2,0)_1.03x1_1642_OA790nm_dewarped1_extract_reg_cropped_cords.csv\n",
      ".\\data\\registered-videos-2\\Subject3_Session217_OS_(2,0)_1x1_988_OA790nm_dewarped1_extract_reg_cropped.avi<->\n",
      ".\\data\\registered-videos-2\\marked\\Subject3_Session217_OS_(2,0)_1x1_988_OA790nm_dewarped1_extract_reg_cropped_cords.csv\n",
      ".\\data\\registered-videos-2\\Subject47_Session375_OD_(0,-1)_1.04x1.04_3056_OA790nm1_extract_reg_cropped.avi<->\n",
      ".\\data\\registered-videos-2\\marked\\Subject47_Session375_OD_(0,-1)_1.04x1.04_3056_OA790nm1_extract_reg_cropped_coords.csv\n",
      ".\\data\\registered-videos-2\\Subject48_Session379_OD_(-10,0)_1.04x1.04_3111_OA790nm1_extract_reg_cropped.avi<->\n",
      ".\\data\\registered-videos-2\\marked\\Subject48_Session379_OD_(-10,0)_1.04x1.04_3111_OA790nm1_extract_reg_cropped_cords.csv\n",
      ".\\data\\registered-videos-2\\Subject48_Session379_OD_(-7,-2)_1.04x1.04_3107_OA790nm1_extract_reg_cropped.avi<->\n",
      ".\\data\\registered-videos-2\\marked\\Subject48_Session379_OD_(-7,-2)_1.04x1.04_3107_OA790nm1_extract_reg_cropped_cords.csv\n",
      ".\\data\\registered-videos-2\\Subject52_Session404_OD_(0,-3)_1.04x1.04_3466_OA790nm1_extract_reg_cropped.avi<->\n",
      ".\\data\\registered-videos-2\\marked\\Subject52_Session404_OD_(0,-3)_1.04x1.04_3466_OA790nm1_extract_reg_cropped_cords.csv\n",
      ".\\data\\registered-videos-2\\Subject52_Session404_OD_(0,-4)_1.04x1.04_3465_OA790nm1_extract_reg_cropped.avi<->\n",
      ".\\data\\registered-videos-2\\marked\\Subject52_Session404_OD_(0,-4)_1.04x1.04_3465_OA790nm1_extract_reg_cropped_cords.csv\n",
      ".\\data\\registered-videos-2\\Subject52_Session408_OD_(0,-5)_1.04x1.04_3576_OA790nm1_extract_reg_cropped.avi<->\n",
      ".\\data\\registered-videos-2\\marked\\Subject52_Session408_OD_(0,-5)_1.04x1.04_3576_OA790nm1_extract_reg_cropped_cords.csv\n",
      "\n",
      "Creating cell patches from marked videos for debugging...\n"
     ]
    },
    {
     "data": {
      "application/vnd.jupyter.widget-view+json": {
       "model_id": "f0a083f695354a7c8e2a6e6009b279ed",
       "version_major": 2,
       "version_minor": 0
      },
      "text/plain": [
       "HBox(children=(FloatProgress(value=0.0, max=10.0), HTML(value='')))"
      ]
     },
     "metadata": {},
     "output_type": "display_data"
    },
    {
     "name": "stdout",
     "output_type": "stream",
     "text": [
      ".\\data\\shared-videos\\Subject3_Session216_OD_(0,0)_1x1_980_OA790nm_marked.avi<->\n",
      ".\\data\\shared-videos\\Subject3_Session216_OD_(0,0)_1x1_980_OA790nm_marked.csv\n",
      ".\\data\\shared-videos\\Subject50_Session385_OD_(0,-1)_1.04x1.04_3247_OA790nm_marked.avi<->\n",
      ".\\data\\shared-videos\\Subject50_Session385_OD_(0,-1)_1.04x1.04_3247_OA790nm_marked.csv\n",
      ".\\data\\registered-videos-2\\marked\\Subject25_Session298_OD_(-2,0)_1.03x1_1642_OA790nm_dewarped1_extract_reg_cropped_marked.avi<->\n",
      ".\\data\\registered-videos-2\\marked\\Subject25_Session298_OD_(-2,0)_1.03x1_1642_OA790nm_dewarped1_extract_reg_cropped_cords.csv\n",
      ".\\data\\registered-videos-2\\marked\\Subject3_Session217_OS_(2,0)_1x1_988_OA790nm_dewarped1_extract_reg_cropped_marked.avi<->\n",
      ".\\data\\registered-videos-2\\marked\\Subject3_Session217_OS_(2,0)_1x1_988_OA790nm_dewarped1_extract_reg_cropped_cords.csv\n",
      ".\\data\\registered-videos-2\\marked\\Subject47_Session375_OD_(0,-1)_1.04x1.04_3056_OA790nm1_extract_reg_cropped_marked.avi<->\n",
      ".\\data\\registered-videos-2\\marked\\Subject47_Session375_OD_(0,-1)_1.04x1.04_3056_OA790nm1_extract_reg_cropped_coords.csv\n",
      ".\\data\\registered-videos-2\\marked\\Subject48_Session379_OD_(-10,0)_1.04x1.04_3111_OA790nm1_extract_reg_cropped_marked.avi<->\n",
      ".\\data\\registered-videos-2\\marked\\Subject48_Session379_OD_(-10,0)_1.04x1.04_3111_OA790nm1_extract_reg_cropped_cords.csv\n",
      ".\\data\\registered-videos-2\\marked\\Subject48_Session379_OD_(-7,-2)_1.04x1.04_3107_OA790nm1_extract_reg_cropped_marked.avi<->\n",
      ".\\data\\registered-videos-2\\marked\\Subject48_Session379_OD_(-7,-2)_1.04x1.04_3107_OA790nm1_extract_reg_cropped_cords.csv\n",
      ".\\data\\registered-videos-2\\marked\\Subject52_Session404_OD_(0,-3)_1.04x1.04_3466_OA790nm1_extract_reg_cropped_marked.avi<->\n",
      ".\\data\\registered-videos-2\\marked\\Subject52_Session404_OD_(0,-3)_1.04x1.04_3466_OA790nm1_extract_reg_cropped_cords.csv\n",
      ".\\data\\registered-videos-2\\marked\\Subject52_Session404_OD_(0,-4)_1.04x1.04_3465_OA790nm1_extract_reg_cropped_marked.avi<->\n",
      ".\\data\\registered-videos-2\\marked\\Subject52_Session404_OD_(0,-4)_1.04x1.04_3465_OA790nm1_extract_reg_cropped_cords.csv\n",
      ".\\data\\registered-videos-2\\marked\\Subject52_Session408_OD_(0,-5)_1.04x1.04_3576_OA790nm1_extract_reg_cropped_marked.avi<->\n",
      ".\\data\\registered-videos-2\\marked\\Subject52_Session408_OD_(0,-5)_1.04x1.04_3576_OA790nm1_extract_reg_cropped_cords.csv\n",
      "\n",
      "\n",
      "Creating dataset from cell and non cell patches\n",
      "-----------------------------------------------\n",
      "Splitting into training set and validation set\n",
      "\n",
      "Saving datasets\n",
      "---------------\n",
      "Saved training set as: '.\\data\\cache\\datasets\\trainset_bloodcells_ps_21_hm_false_npp_3.pt'\n",
      "Saved validation set as: '.\\data\\cache\\datasets\\validset_bloodcells_ps_21_hm_false_npp_3.pt'\n",
      "Saving cell and non cell images\n",
      "Saved cell images as: '.\\data\\cache\\datasets\\bloodcells_ps_21_hm_false_npp_3.npy'\n",
      "Saved non cell images as: '.\\data\\cache\\datasets\\non_bloodcells_ps_21_hm_false_npp_3.npy'\n",
      "Saved marked cell images (for debugging) as: '.\\data\\cache\\datasets\\bloodcells_ps_21_hm_false_npp_3_marked.npy'\n",
      "Saved marked non cell images (for debugging) as: '.\\data\\cache\\datasets\\non_bloodcells_ps_21_hm_false_npp_3_marked.npy'\n",
      "Cell images: (12957, 21, 21)\n",
      "Non cell images (38064, 21, 21)\n",
      "Cell images: (12957, 21, 21)\n",
      "Non cell images (38064, 21, 21)\n",
      "patch size (21, 21)\n",
      "do hist match: True\n",
      "Negatives per positive 3\n",
      "\n",
      "Dataset loading from cache\n",
      "--------------------------\n",
      "loading training set from '.\\data\\cache\\datasets\\trainset_bloodcells_ps_21_hm_true_npp_3.pt'...\n",
      "Not all data found fom cache. Creating datasets...\n",
      "Creating cell and no cell images from videos...\n"
     ]
    },
    {
     "data": {
      "application/vnd.jupyter.widget-view+json": {
       "model_id": "b29579dabb774758aebf02ffd62a660c",
       "version_major": 2,
       "version_minor": 0
      },
      "text/plain": [
       "HBox(children=(FloatProgress(value=0.0, max=10.0), HTML(value='')))"
      ]
     },
     "metadata": {},
     "output_type": "display_data"
    },
    {
     "name": "stdout",
     "output_type": "stream",
     "text": [
      ".\\data\\shared-videos\\Subject3_Session216_OD_(0,0)_1x1_980_OA790nm_dewarped.avi<->\n",
      ".\\data\\shared-videos\\Subject3_Session216_OD_(0,0)_1x1_980_OA790nm_marked.csv\n",
      ".\\data\\shared-videos\\Subject50_Session385_OD_(0,-1)_1.04x1.04_3247_OA790nm.avi<->\n",
      ".\\data\\shared-videos\\Subject50_Session385_OD_(0,-1)_1.04x1.04_3247_OA790nm_marked.csv\n",
      ".\\data\\registered-videos-2\\Subject25_Session298_OD_(-2,0)_1.03x1_1642_OA790nm_dewarped1_extract_reg_cropped.avi<->\n",
      ".\\data\\registered-videos-2\\marked\\Subject25_Session298_OD_(-2,0)_1.03x1_1642_OA790nm_dewarped1_extract_reg_cropped_cords.csv\n",
      ".\\data\\registered-videos-2\\Subject3_Session217_OS_(2,0)_1x1_988_OA790nm_dewarped1_extract_reg_cropped.avi<->\n",
      ".\\data\\registered-videos-2\\marked\\Subject3_Session217_OS_(2,0)_1x1_988_OA790nm_dewarped1_extract_reg_cropped_cords.csv\n",
      ".\\data\\registered-videos-2\\Subject47_Session375_OD_(0,-1)_1.04x1.04_3056_OA790nm1_extract_reg_cropped.avi<->\n",
      ".\\data\\registered-videos-2\\marked\\Subject47_Session375_OD_(0,-1)_1.04x1.04_3056_OA790nm1_extract_reg_cropped_coords.csv\n",
      ".\\data\\registered-videos-2\\Subject48_Session379_OD_(-10,0)_1.04x1.04_3111_OA790nm1_extract_reg_cropped.avi<->\n",
      ".\\data\\registered-videos-2\\marked\\Subject48_Session379_OD_(-10,0)_1.04x1.04_3111_OA790nm1_extract_reg_cropped_cords.csv\n",
      ".\\data\\registered-videos-2\\Subject48_Session379_OD_(-7,-2)_1.04x1.04_3107_OA790nm1_extract_reg_cropped.avi<->\n",
      ".\\data\\registered-videos-2\\marked\\Subject48_Session379_OD_(-7,-2)_1.04x1.04_3107_OA790nm1_extract_reg_cropped_cords.csv\n",
      ".\\data\\registered-videos-2\\Subject52_Session404_OD_(0,-3)_1.04x1.04_3466_OA790nm1_extract_reg_cropped.avi<->\n",
      ".\\data\\registered-videos-2\\marked\\Subject52_Session404_OD_(0,-3)_1.04x1.04_3466_OA790nm1_extract_reg_cropped_cords.csv\n",
      ".\\data\\registered-videos-2\\Subject52_Session404_OD_(0,-4)_1.04x1.04_3465_OA790nm1_extract_reg_cropped.avi<->\n",
      ".\\data\\registered-videos-2\\marked\\Subject52_Session404_OD_(0,-4)_1.04x1.04_3465_OA790nm1_extract_reg_cropped_cords.csv\n",
      ".\\data\\registered-videos-2\\Subject52_Session408_OD_(0,-5)_1.04x1.04_3576_OA790nm1_extract_reg_cropped.avi<->\n",
      ".\\data\\registered-videos-2\\marked\\Subject52_Session408_OD_(0,-5)_1.04x1.04_3576_OA790nm1_extract_reg_cropped_cords.csv\n",
      "\n",
      "Creating cell patches from marked videos for debugging...\n"
     ]
    },
    {
     "data": {
      "application/vnd.jupyter.widget-view+json": {
       "model_id": "cf3b01c66bc247f99d3aad3c3a813127",
       "version_major": 2,
       "version_minor": 0
      },
      "text/plain": [
       "HBox(children=(FloatProgress(value=0.0, max=10.0), HTML(value='')))"
      ]
     },
     "metadata": {},
     "output_type": "display_data"
    },
    {
     "name": "stdout",
     "output_type": "stream",
     "text": [
      ".\\data\\shared-videos\\Subject3_Session216_OD_(0,0)_1x1_980_OA790nm_marked.avi<->\n",
      ".\\data\\shared-videos\\Subject3_Session216_OD_(0,0)_1x1_980_OA790nm_marked.csv\n",
      ".\\data\\shared-videos\\Subject50_Session385_OD_(0,-1)_1.04x1.04_3247_OA790nm_marked.avi<->\n",
      ".\\data\\shared-videos\\Subject50_Session385_OD_(0,-1)_1.04x1.04_3247_OA790nm_marked.csv\n",
      ".\\data\\registered-videos-2\\marked\\Subject25_Session298_OD_(-2,0)_1.03x1_1642_OA790nm_dewarped1_extract_reg_cropped_marked.avi<->\n",
      ".\\data\\registered-videos-2\\marked\\Subject25_Session298_OD_(-2,0)_1.03x1_1642_OA790nm_dewarped1_extract_reg_cropped_cords.csv\n",
      ".\\data\\registered-videos-2\\marked\\Subject3_Session217_OS_(2,0)_1x1_988_OA790nm_dewarped1_extract_reg_cropped_marked.avi<->\n",
      ".\\data\\registered-videos-2\\marked\\Subject3_Session217_OS_(2,0)_1x1_988_OA790nm_dewarped1_extract_reg_cropped_cords.csv\n",
      ".\\data\\registered-videos-2\\marked\\Subject47_Session375_OD_(0,-1)_1.04x1.04_3056_OA790nm1_extract_reg_cropped_marked.avi<->\n",
      ".\\data\\registered-videos-2\\marked\\Subject47_Session375_OD_(0,-1)_1.04x1.04_3056_OA790nm1_extract_reg_cropped_coords.csv\n",
      ".\\data\\registered-videos-2\\marked\\Subject48_Session379_OD_(-10,0)_1.04x1.04_3111_OA790nm1_extract_reg_cropped_marked.avi<->\n",
      ".\\data\\registered-videos-2\\marked\\Subject48_Session379_OD_(-10,0)_1.04x1.04_3111_OA790nm1_extract_reg_cropped_cords.csv\n",
      ".\\data\\registered-videos-2\\marked\\Subject48_Session379_OD_(-7,-2)_1.04x1.04_3107_OA790nm1_extract_reg_cropped_marked.avi<->\n",
      ".\\data\\registered-videos-2\\marked\\Subject48_Session379_OD_(-7,-2)_1.04x1.04_3107_OA790nm1_extract_reg_cropped_cords.csv\n",
      ".\\data\\registered-videos-2\\marked\\Subject52_Session404_OD_(0,-3)_1.04x1.04_3466_OA790nm1_extract_reg_cropped_marked.avi<->\n",
      ".\\data\\registered-videos-2\\marked\\Subject52_Session404_OD_(0,-3)_1.04x1.04_3466_OA790nm1_extract_reg_cropped_cords.csv\n",
      ".\\data\\registered-videos-2\\marked\\Subject52_Session404_OD_(0,-4)_1.04x1.04_3465_OA790nm1_extract_reg_cropped_marked.avi<->\n",
      ".\\data\\registered-videos-2\\marked\\Subject52_Session404_OD_(0,-4)_1.04x1.04_3465_OA790nm1_extract_reg_cropped_cords.csv\n",
      ".\\data\\registered-videos-2\\marked\\Subject52_Session408_OD_(0,-5)_1.04x1.04_3576_OA790nm1_extract_reg_cropped_marked.avi<->\n",
      ".\\data\\registered-videos-2\\marked\\Subject52_Session408_OD_(0,-5)_1.04x1.04_3576_OA790nm1_extract_reg_cropped_cords.csv\n",
      "\n",
      "\n",
      "Creating dataset from cell and non cell patches\n",
      "-----------------------------------------------\n",
      "Splitting into training set and validation set\n",
      "\n",
      "Saving datasets\n",
      "---------------\n",
      "Saved training set as: '.\\data\\cache\\datasets\\trainset_bloodcells_ps_21_hm_true_npp_3.pt'\n",
      "Saved validation set as: '.\\data\\cache\\datasets\\validset_bloodcells_ps_21_hm_true_npp_3.pt'\n",
      "Saving cell and non cell images\n",
      "Saved cell images as: '.\\data\\cache\\datasets\\bloodcells_ps_21_hm_true_npp_3.npy'\n",
      "Saved non cell images as: '.\\data\\cache\\datasets\\non_bloodcells_ps_21_hm_true_npp_3.npy'\n",
      "Saved marked cell images (for debugging) as: '.\\data\\cache\\datasets\\bloodcells_ps_21_hm_true_npp_3_marked.npy'\n",
      "Saved marked non cell images (for debugging) as: '.\\data\\cache\\datasets\\non_bloodcells_ps_21_hm_true_npp_3_marked.npy'\n",
      "Cell images: (12957, 21, 21)\n",
      "Non cell images (38026, 21, 21)\n",
      "Cell images: (12957, 21, 21)\n",
      "Non cell images (38026, 21, 21)\n",
      "patch size (19, 19)\n",
      "do hist match: False\n",
      "Negatives per positive 3\n",
      "\n",
      "Dataset loading from cache\n",
      "--------------------------\n",
      "loading training set from '.\\data\\cache\\datasets\\trainset_bloodcells_ps_19_hm_false_npp_3.pt'...\n",
      "Not all data found fom cache. Creating datasets...\n",
      "Creating cell and no cell images from videos...\n"
     ]
    },
    {
     "data": {
      "application/vnd.jupyter.widget-view+json": {
       "model_id": "d3cb4c7be0014e5eb5d86a8bc4b43065",
       "version_major": 2,
       "version_minor": 0
      },
      "text/plain": [
       "HBox(children=(FloatProgress(value=0.0, max=10.0), HTML(value='')))"
      ]
     },
     "metadata": {},
     "output_type": "display_data"
    },
    {
     "name": "stdout",
     "output_type": "stream",
     "text": [
      ".\\data\\shared-videos\\Subject3_Session216_OD_(0,0)_1x1_980_OA790nm_dewarped.avi<->\n",
      ".\\data\\shared-videos\\Subject3_Session216_OD_(0,0)_1x1_980_OA790nm_marked.csv\n",
      ".\\data\\shared-videos\\Subject50_Session385_OD_(0,-1)_1.04x1.04_3247_OA790nm.avi<->\n",
      ".\\data\\shared-videos\\Subject50_Session385_OD_(0,-1)_1.04x1.04_3247_OA790nm_marked.csv\n",
      ".\\data\\registered-videos-2\\Subject25_Session298_OD_(-2,0)_1.03x1_1642_OA790nm_dewarped1_extract_reg_cropped.avi<->\n",
      ".\\data\\registered-videos-2\\marked\\Subject25_Session298_OD_(-2,0)_1.03x1_1642_OA790nm_dewarped1_extract_reg_cropped_cords.csv\n",
      ".\\data\\registered-videos-2\\Subject3_Session217_OS_(2,0)_1x1_988_OA790nm_dewarped1_extract_reg_cropped.avi<->\n",
      ".\\data\\registered-videos-2\\marked\\Subject3_Session217_OS_(2,0)_1x1_988_OA790nm_dewarped1_extract_reg_cropped_cords.csv\n",
      ".\\data\\registered-videos-2\\Subject47_Session375_OD_(0,-1)_1.04x1.04_3056_OA790nm1_extract_reg_cropped.avi<->\n",
      ".\\data\\registered-videos-2\\marked\\Subject47_Session375_OD_(0,-1)_1.04x1.04_3056_OA790nm1_extract_reg_cropped_coords.csv\n",
      ".\\data\\registered-videos-2\\Subject48_Session379_OD_(-10,0)_1.04x1.04_3111_OA790nm1_extract_reg_cropped.avi<->\n",
      ".\\data\\registered-videos-2\\marked\\Subject48_Session379_OD_(-10,0)_1.04x1.04_3111_OA790nm1_extract_reg_cropped_cords.csv\n",
      ".\\data\\registered-videos-2\\Subject48_Session379_OD_(-7,-2)_1.04x1.04_3107_OA790nm1_extract_reg_cropped.avi<->\n",
      ".\\data\\registered-videos-2\\marked\\Subject48_Session379_OD_(-7,-2)_1.04x1.04_3107_OA790nm1_extract_reg_cropped_cords.csv\n",
      ".\\data\\registered-videos-2\\Subject52_Session404_OD_(0,-3)_1.04x1.04_3466_OA790nm1_extract_reg_cropped.avi<->\n",
      ".\\data\\registered-videos-2\\marked\\Subject52_Session404_OD_(0,-3)_1.04x1.04_3466_OA790nm1_extract_reg_cropped_cords.csv\n",
      ".\\data\\registered-videos-2\\Subject52_Session404_OD_(0,-4)_1.04x1.04_3465_OA790nm1_extract_reg_cropped.avi<->\n",
      ".\\data\\registered-videos-2\\marked\\Subject52_Session404_OD_(0,-4)_1.04x1.04_3465_OA790nm1_extract_reg_cropped_cords.csv\n",
      ".\\data\\registered-videos-2\\Subject52_Session408_OD_(0,-5)_1.04x1.04_3576_OA790nm1_extract_reg_cropped.avi<->\n",
      ".\\data\\registered-videos-2\\marked\\Subject52_Session408_OD_(0,-5)_1.04x1.04_3576_OA790nm1_extract_reg_cropped_cords.csv\n",
      "\n",
      "Creating cell patches from marked videos for debugging...\n"
     ]
    },
    {
     "data": {
      "application/vnd.jupyter.widget-view+json": {
       "model_id": "b32dc7a5453d4d76863fb305939311bf",
       "version_major": 2,
       "version_minor": 0
      },
      "text/plain": [
       "HBox(children=(FloatProgress(value=0.0, max=10.0), HTML(value='')))"
      ]
     },
     "metadata": {},
     "output_type": "display_data"
    },
    {
     "name": "stdout",
     "output_type": "stream",
     "text": [
      ".\\data\\shared-videos\\Subject3_Session216_OD_(0,0)_1x1_980_OA790nm_marked.avi<->\n",
      ".\\data\\shared-videos\\Subject3_Session216_OD_(0,0)_1x1_980_OA790nm_marked.csv\n",
      ".\\data\\shared-videos\\Subject50_Session385_OD_(0,-1)_1.04x1.04_3247_OA790nm_marked.avi<->\n",
      ".\\data\\shared-videos\\Subject50_Session385_OD_(0,-1)_1.04x1.04_3247_OA790nm_marked.csv\n",
      ".\\data\\registered-videos-2\\marked\\Subject25_Session298_OD_(-2,0)_1.03x1_1642_OA790nm_dewarped1_extract_reg_cropped_marked.avi<->\n",
      ".\\data\\registered-videos-2\\marked\\Subject25_Session298_OD_(-2,0)_1.03x1_1642_OA790nm_dewarped1_extract_reg_cropped_cords.csv\n",
      ".\\data\\registered-videos-2\\marked\\Subject3_Session217_OS_(2,0)_1x1_988_OA790nm_dewarped1_extract_reg_cropped_marked.avi<->\n",
      ".\\data\\registered-videos-2\\marked\\Subject3_Session217_OS_(2,0)_1x1_988_OA790nm_dewarped1_extract_reg_cropped_cords.csv\n",
      ".\\data\\registered-videos-2\\marked\\Subject47_Session375_OD_(0,-1)_1.04x1.04_3056_OA790nm1_extract_reg_cropped_marked.avi<->\n",
      ".\\data\\registered-videos-2\\marked\\Subject47_Session375_OD_(0,-1)_1.04x1.04_3056_OA790nm1_extract_reg_cropped_coords.csv\n",
      ".\\data\\registered-videos-2\\marked\\Subject48_Session379_OD_(-10,0)_1.04x1.04_3111_OA790nm1_extract_reg_cropped_marked.avi<->\n",
      ".\\data\\registered-videos-2\\marked\\Subject48_Session379_OD_(-10,0)_1.04x1.04_3111_OA790nm1_extract_reg_cropped_cords.csv\n",
      ".\\data\\registered-videos-2\\marked\\Subject48_Session379_OD_(-7,-2)_1.04x1.04_3107_OA790nm1_extract_reg_cropped_marked.avi<->\n",
      ".\\data\\registered-videos-2\\marked\\Subject48_Session379_OD_(-7,-2)_1.04x1.04_3107_OA790nm1_extract_reg_cropped_cords.csv\n",
      ".\\data\\registered-videos-2\\marked\\Subject52_Session404_OD_(0,-3)_1.04x1.04_3466_OA790nm1_extract_reg_cropped_marked.avi<->\n",
      ".\\data\\registered-videos-2\\marked\\Subject52_Session404_OD_(0,-3)_1.04x1.04_3466_OA790nm1_extract_reg_cropped_cords.csv\n",
      ".\\data\\registered-videos-2\\marked\\Subject52_Session404_OD_(0,-4)_1.04x1.04_3465_OA790nm1_extract_reg_cropped_marked.avi<->\n",
      ".\\data\\registered-videos-2\\marked\\Subject52_Session404_OD_(0,-4)_1.04x1.04_3465_OA790nm1_extract_reg_cropped_cords.csv\n",
      ".\\data\\registered-videos-2\\marked\\Subject52_Session408_OD_(0,-5)_1.04x1.04_3576_OA790nm1_extract_reg_cropped_marked.avi<->\n",
      ".\\data\\registered-videos-2\\marked\\Subject52_Session408_OD_(0,-5)_1.04x1.04_3576_OA790nm1_extract_reg_cropped_cords.csv\n",
      "\n",
      "\n",
      "Creating dataset from cell and non cell patches\n",
      "-----------------------------------------------\n",
      "Splitting into training set and validation set\n",
      "\n",
      "Saving datasets\n",
      "---------------\n",
      "Saved training set as: '.\\data\\cache\\datasets\\trainset_bloodcells_ps_19_hm_false_npp_3.pt'\n",
      "Saved validation set as: '.\\data\\cache\\datasets\\validset_bloodcells_ps_19_hm_false_npp_3.pt'\n",
      "Saving cell and non cell images\n",
      "Saved cell images as: '.\\data\\cache\\datasets\\bloodcells_ps_19_hm_false_npp_3.npy'\n",
      "Saved non cell images as: '.\\data\\cache\\datasets\\non_bloodcells_ps_19_hm_false_npp_3.npy'\n",
      "Saved marked cell images (for debugging) as: '.\\data\\cache\\datasets\\bloodcells_ps_19_hm_false_npp_3_marked.npy'\n",
      "Saved marked non cell images (for debugging) as: '.\\data\\cache\\datasets\\non_bloodcells_ps_19_hm_false_npp_3_marked.npy'\n",
      "Cell images: (12989, 19, 19)\n",
      "Non cell images (38131, 19, 19)\n",
      "Cell images: (12989, 19, 19)\n",
      "Non cell images (38131, 19, 19)\n",
      "patch size (19, 19)\n",
      "do hist match: True\n",
      "Negatives per positive 3\n",
      "\n",
      "Dataset loading from cache\n",
      "--------------------------\n",
      "loading training set from '.\\data\\cache\\datasets\\trainset_bloodcells_ps_19_hm_true_npp_3.pt'...\n",
      "Not all data found fom cache. Creating datasets...\n",
      "Creating cell and no cell images from videos...\n"
     ]
    },
    {
     "data": {
      "application/vnd.jupyter.widget-view+json": {
       "model_id": "072457bd0c574c47bf70d72f60322ab5",
       "version_major": 2,
       "version_minor": 0
      },
      "text/plain": [
       "HBox(children=(FloatProgress(value=0.0, max=10.0), HTML(value='')))"
      ]
     },
     "metadata": {},
     "output_type": "display_data"
    },
    {
     "name": "stdout",
     "output_type": "stream",
     "text": [
      ".\\data\\shared-videos\\Subject3_Session216_OD_(0,0)_1x1_980_OA790nm_dewarped.avi<->\n",
      ".\\data\\shared-videos\\Subject3_Session216_OD_(0,0)_1x1_980_OA790nm_marked.csv\n",
      ".\\data\\shared-videos\\Subject50_Session385_OD_(0,-1)_1.04x1.04_3247_OA790nm.avi<->\n",
      ".\\data\\shared-videos\\Subject50_Session385_OD_(0,-1)_1.04x1.04_3247_OA790nm_marked.csv\n",
      ".\\data\\registered-videos-2\\Subject25_Session298_OD_(-2,0)_1.03x1_1642_OA790nm_dewarped1_extract_reg_cropped.avi<->\n",
      ".\\data\\registered-videos-2\\marked\\Subject25_Session298_OD_(-2,0)_1.03x1_1642_OA790nm_dewarped1_extract_reg_cropped_cords.csv\n",
      ".\\data\\registered-videos-2\\Subject3_Session217_OS_(2,0)_1x1_988_OA790nm_dewarped1_extract_reg_cropped.avi<->\n",
      ".\\data\\registered-videos-2\\marked\\Subject3_Session217_OS_(2,0)_1x1_988_OA790nm_dewarped1_extract_reg_cropped_cords.csv\n",
      ".\\data\\registered-videos-2\\Subject47_Session375_OD_(0,-1)_1.04x1.04_3056_OA790nm1_extract_reg_cropped.avi<->\n",
      ".\\data\\registered-videos-2\\marked\\Subject47_Session375_OD_(0,-1)_1.04x1.04_3056_OA790nm1_extract_reg_cropped_coords.csv\n",
      ".\\data\\registered-videos-2\\Subject48_Session379_OD_(-10,0)_1.04x1.04_3111_OA790nm1_extract_reg_cropped.avi<->\n",
      ".\\data\\registered-videos-2\\marked\\Subject48_Session379_OD_(-10,0)_1.04x1.04_3111_OA790nm1_extract_reg_cropped_cords.csv\n",
      ".\\data\\registered-videos-2\\Subject48_Session379_OD_(-7,-2)_1.04x1.04_3107_OA790nm1_extract_reg_cropped.avi<->\n",
      ".\\data\\registered-videos-2\\marked\\Subject48_Session379_OD_(-7,-2)_1.04x1.04_3107_OA790nm1_extract_reg_cropped_cords.csv\n",
      ".\\data\\registered-videos-2\\Subject52_Session404_OD_(0,-3)_1.04x1.04_3466_OA790nm1_extract_reg_cropped.avi<->\n",
      ".\\data\\registered-videos-2\\marked\\Subject52_Session404_OD_(0,-3)_1.04x1.04_3466_OA790nm1_extract_reg_cropped_cords.csv\n",
      ".\\data\\registered-videos-2\\Subject52_Session404_OD_(0,-4)_1.04x1.04_3465_OA790nm1_extract_reg_cropped.avi<->\n",
      ".\\data\\registered-videos-2\\marked\\Subject52_Session404_OD_(0,-4)_1.04x1.04_3465_OA790nm1_extract_reg_cropped_cords.csv\n",
      ".\\data\\registered-videos-2\\Subject52_Session408_OD_(0,-5)_1.04x1.04_3576_OA790nm1_extract_reg_cropped.avi<->\n",
      ".\\data\\registered-videos-2\\marked\\Subject52_Session408_OD_(0,-5)_1.04x1.04_3576_OA790nm1_extract_reg_cropped_cords.csv\n",
      "\n",
      "Creating cell patches from marked videos for debugging...\n"
     ]
    },
    {
     "data": {
      "application/vnd.jupyter.widget-view+json": {
       "model_id": "428e631f0f8e489abbab14e32204f37b",
       "version_major": 2,
       "version_minor": 0
      },
      "text/plain": [
       "HBox(children=(FloatProgress(value=0.0, max=10.0), HTML(value='')))"
      ]
     },
     "metadata": {},
     "output_type": "display_data"
    },
    {
     "name": "stdout",
     "output_type": "stream",
     "text": [
      ".\\data\\shared-videos\\Subject3_Session216_OD_(0,0)_1x1_980_OA790nm_marked.avi<->\n",
      ".\\data\\shared-videos\\Subject3_Session216_OD_(0,0)_1x1_980_OA790nm_marked.csv\n",
      ".\\data\\shared-videos\\Subject50_Session385_OD_(0,-1)_1.04x1.04_3247_OA790nm_marked.avi<->\n",
      ".\\data\\shared-videos\\Subject50_Session385_OD_(0,-1)_1.04x1.04_3247_OA790nm_marked.csv\n",
      ".\\data\\registered-videos-2\\marked\\Subject25_Session298_OD_(-2,0)_1.03x1_1642_OA790nm_dewarped1_extract_reg_cropped_marked.avi<->\n",
      ".\\data\\registered-videos-2\\marked\\Subject25_Session298_OD_(-2,0)_1.03x1_1642_OA790nm_dewarped1_extract_reg_cropped_cords.csv\n",
      ".\\data\\registered-videos-2\\marked\\Subject3_Session217_OS_(2,0)_1x1_988_OA790nm_dewarped1_extract_reg_cropped_marked.avi<->\n",
      ".\\data\\registered-videos-2\\marked\\Subject3_Session217_OS_(2,0)_1x1_988_OA790nm_dewarped1_extract_reg_cropped_cords.csv\n",
      ".\\data\\registered-videos-2\\marked\\Subject47_Session375_OD_(0,-1)_1.04x1.04_3056_OA790nm1_extract_reg_cropped_marked.avi<->\n",
      ".\\data\\registered-videos-2\\marked\\Subject47_Session375_OD_(0,-1)_1.04x1.04_3056_OA790nm1_extract_reg_cropped_coords.csv\n",
      ".\\data\\registered-videos-2\\marked\\Subject48_Session379_OD_(-10,0)_1.04x1.04_3111_OA790nm1_extract_reg_cropped_marked.avi<->\n",
      ".\\data\\registered-videos-2\\marked\\Subject48_Session379_OD_(-10,0)_1.04x1.04_3111_OA790nm1_extract_reg_cropped_cords.csv\n",
      ".\\data\\registered-videos-2\\marked\\Subject48_Session379_OD_(-7,-2)_1.04x1.04_3107_OA790nm1_extract_reg_cropped_marked.avi<->\n",
      ".\\data\\registered-videos-2\\marked\\Subject48_Session379_OD_(-7,-2)_1.04x1.04_3107_OA790nm1_extract_reg_cropped_cords.csv\n",
      ".\\data\\registered-videos-2\\marked\\Subject52_Session404_OD_(0,-3)_1.04x1.04_3466_OA790nm1_extract_reg_cropped_marked.avi<->\n",
      ".\\data\\registered-videos-2\\marked\\Subject52_Session404_OD_(0,-3)_1.04x1.04_3466_OA790nm1_extract_reg_cropped_cords.csv\n",
      ".\\data\\registered-videos-2\\marked\\Subject52_Session404_OD_(0,-4)_1.04x1.04_3465_OA790nm1_extract_reg_cropped_marked.avi<->\n",
      ".\\data\\registered-videos-2\\marked\\Subject52_Session404_OD_(0,-4)_1.04x1.04_3465_OA790nm1_extract_reg_cropped_cords.csv\n",
      ".\\data\\registered-videos-2\\marked\\Subject52_Session408_OD_(0,-5)_1.04x1.04_3576_OA790nm1_extract_reg_cropped_marked.avi<->\n",
      ".\\data\\registered-videos-2\\marked\\Subject52_Session408_OD_(0,-5)_1.04x1.04_3576_OA790nm1_extract_reg_cropped_cords.csv\n",
      "\n",
      "\n",
      "Creating dataset from cell and non cell patches\n",
      "-----------------------------------------------\n",
      "Splitting into training set and validation set\n",
      "\n",
      "Saving datasets\n",
      "---------------\n",
      "Saved training set as: '.\\data\\cache\\datasets\\trainset_bloodcells_ps_19_hm_true_npp_3.pt'\n",
      "Saved validation set as: '.\\data\\cache\\datasets\\validset_bloodcells_ps_19_hm_true_npp_3.pt'\n",
      "Saving cell and non cell images\n",
      "Saved cell images as: '.\\data\\cache\\datasets\\bloodcells_ps_19_hm_true_npp_3.npy'\n",
      "Saved non cell images as: '.\\data\\cache\\datasets\\non_bloodcells_ps_19_hm_true_npp_3.npy'\n",
      "Saved marked cell images (for debugging) as: '.\\data\\cache\\datasets\\bloodcells_ps_19_hm_true_npp_3_marked.npy'\n",
      "Saved marked non cell images (for debugging) as: '.\\data\\cache\\datasets\\non_bloodcells_ps_19_hm_true_npp_3_marked.npy'\n",
      "Cell images: (12989, 19, 19)\n",
      "Non cell images (38115, 19, 19)\n",
      "Cell images: (12989, 19, 19)\n",
      "Non cell images (38115, 19, 19)\n"
     ]
    }
   ],
   "source": [
    "dataset_creation_demo(patch_size=(21, 21), do_hist_match=False, n_negatives_per_positive=3)\n",
    "dataset_creation_demo(patch_size=(21, 21), do_hist_match=True, n_negatives_per_positive=3)\n",
    "dataset_creation_demo(patch_size=(19, 19), do_hist_match=False, n_negatives_per_positive=3)\n",
    "dataset_creation_demo(patch_size=(19, 19), do_hist_match=True, n_negatives_per_positive=3)"
   ]
  },
  {
   "cell_type": "code",
   "execution_count": 3,
   "metadata": {},
   "outputs": [
    {
     "name": "stdout",
     "output_type": "stream",
     "text": [
      "patch size (21, 21)\n",
      "do hist match: False\n",
      "Negatives per positive 5\n",
      "\n",
      "Dataset loading from cache\n",
      "--------------------------\n",
      "loading training set from '.\\data\\cache\\datasets\\trainset_bloodcells_ps_21_hm_false_npp_5.pt'...\n",
      "Not all data found fom cache. Creating datasets...\n",
      "Creating cell and no cell images from videos...\n"
     ]
    },
    {
     "data": {
      "application/vnd.jupyter.widget-view+json": {
       "model_id": "d3f4d82623c143b3a75df1a2036c29c4",
       "version_major": 2,
       "version_minor": 0
      },
      "text/plain": [
       "HBox(children=(FloatProgress(value=0.0, max=10.0), HTML(value='')))"
      ]
     },
     "metadata": {},
     "output_type": "display_data"
    },
    {
     "name": "stdout",
     "output_type": "stream",
     "text": [
      ".\\data\\shared-videos\\Subject3_Session216_OD_(0,0)_1x1_980_OA790nm_dewarped.avi<->\n",
      ".\\data\\shared-videos\\Subject3_Session216_OD_(0,0)_1x1_980_OA790nm_marked.csv\n",
      ".\\data\\shared-videos\\Subject50_Session385_OD_(0,-1)_1.04x1.04_3247_OA790nm.avi<->\n",
      ".\\data\\shared-videos\\Subject50_Session385_OD_(0,-1)_1.04x1.04_3247_OA790nm_marked.csv\n",
      ".\\data\\registered-videos-2\\Subject25_Session298_OD_(-2,0)_1.03x1_1642_OA790nm_dewarped1_extract_reg_cropped.avi<->\n",
      ".\\data\\registered-videos-2\\marked\\Subject25_Session298_OD_(-2,0)_1.03x1_1642_OA790nm_dewarped1_extract_reg_cropped_cords.csv\n",
      ".\\data\\registered-videos-2\\Subject3_Session217_OS_(2,0)_1x1_988_OA790nm_dewarped1_extract_reg_cropped.avi<->\n",
      ".\\data\\registered-videos-2\\marked\\Subject3_Session217_OS_(2,0)_1x1_988_OA790nm_dewarped1_extract_reg_cropped_cords.csv\n",
      ".\\data\\registered-videos-2\\Subject47_Session375_OD_(0,-1)_1.04x1.04_3056_OA790nm1_extract_reg_cropped.avi<->\n",
      ".\\data\\registered-videos-2\\marked\\Subject47_Session375_OD_(0,-1)_1.04x1.04_3056_OA790nm1_extract_reg_cropped_coords.csv\n",
      ".\\data\\registered-videos-2\\Subject48_Session379_OD_(-10,0)_1.04x1.04_3111_OA790nm1_extract_reg_cropped.avi<->\n",
      ".\\data\\registered-videos-2\\marked\\Subject48_Session379_OD_(-10,0)_1.04x1.04_3111_OA790nm1_extract_reg_cropped_cords.csv\n",
      ".\\data\\registered-videos-2\\Subject48_Session379_OD_(-7,-2)_1.04x1.04_3107_OA790nm1_extract_reg_cropped.avi<->\n",
      ".\\data\\registered-videos-2\\marked\\Subject48_Session379_OD_(-7,-2)_1.04x1.04_3107_OA790nm1_extract_reg_cropped_cords.csv\n",
      ".\\data\\registered-videos-2\\Subject52_Session404_OD_(0,-3)_1.04x1.04_3466_OA790nm1_extract_reg_cropped.avi<->\n",
      ".\\data\\registered-videos-2\\marked\\Subject52_Session404_OD_(0,-3)_1.04x1.04_3466_OA790nm1_extract_reg_cropped_cords.csv\n",
      ".\\data\\registered-videos-2\\Subject52_Session404_OD_(0,-4)_1.04x1.04_3465_OA790nm1_extract_reg_cropped.avi<->\n",
      ".\\data\\registered-videos-2\\marked\\Subject52_Session404_OD_(0,-4)_1.04x1.04_3465_OA790nm1_extract_reg_cropped_cords.csv\n",
      ".\\data\\registered-videos-2\\Subject52_Session408_OD_(0,-5)_1.04x1.04_3576_OA790nm1_extract_reg_cropped.avi<->\n",
      ".\\data\\registered-videos-2\\marked\\Subject52_Session408_OD_(0,-5)_1.04x1.04_3576_OA790nm1_extract_reg_cropped_cords.csv\n",
      "\n",
      "Creating cell patches from marked videos for debugging...\n"
     ]
    },
    {
     "data": {
      "application/vnd.jupyter.widget-view+json": {
       "model_id": "0df02e605ea24f3db2d882cf74504fb1",
       "version_major": 2,
       "version_minor": 0
      },
      "text/plain": [
       "HBox(children=(FloatProgress(value=0.0, max=10.0), HTML(value='')))"
      ]
     },
     "metadata": {},
     "output_type": "display_data"
    },
    {
     "name": "stdout",
     "output_type": "stream",
     "text": [
      ".\\data\\shared-videos\\Subject3_Session216_OD_(0,0)_1x1_980_OA790nm_marked.avi<->\n",
      ".\\data\\shared-videos\\Subject3_Session216_OD_(0,0)_1x1_980_OA790nm_marked.csv\n",
      ".\\data\\shared-videos\\Subject50_Session385_OD_(0,-1)_1.04x1.04_3247_OA790nm_marked.avi<->\n",
      ".\\data\\shared-videos\\Subject50_Session385_OD_(0,-1)_1.04x1.04_3247_OA790nm_marked.csv\n",
      ".\\data\\registered-videos-2\\marked\\Subject25_Session298_OD_(-2,0)_1.03x1_1642_OA790nm_dewarped1_extract_reg_cropped_marked.avi<->\n",
      ".\\data\\registered-videos-2\\marked\\Subject25_Session298_OD_(-2,0)_1.03x1_1642_OA790nm_dewarped1_extract_reg_cropped_cords.csv\n",
      ".\\data\\registered-videos-2\\marked\\Subject3_Session217_OS_(2,0)_1x1_988_OA790nm_dewarped1_extract_reg_cropped_marked.avi<->\n",
      ".\\data\\registered-videos-2\\marked\\Subject3_Session217_OS_(2,0)_1x1_988_OA790nm_dewarped1_extract_reg_cropped_cords.csv\n",
      ".\\data\\registered-videos-2\\marked\\Subject47_Session375_OD_(0,-1)_1.04x1.04_3056_OA790nm1_extract_reg_cropped_marked.avi<->\n",
      ".\\data\\registered-videos-2\\marked\\Subject47_Session375_OD_(0,-1)_1.04x1.04_3056_OA790nm1_extract_reg_cropped_coords.csv\n",
      ".\\data\\registered-videos-2\\marked\\Subject48_Session379_OD_(-10,0)_1.04x1.04_3111_OA790nm1_extract_reg_cropped_marked.avi<->\n",
      ".\\data\\registered-videos-2\\marked\\Subject48_Session379_OD_(-10,0)_1.04x1.04_3111_OA790nm1_extract_reg_cropped_cords.csv\n",
      ".\\data\\registered-videos-2\\marked\\Subject48_Session379_OD_(-7,-2)_1.04x1.04_3107_OA790nm1_extract_reg_cropped_marked.avi<->\n",
      ".\\data\\registered-videos-2\\marked\\Subject48_Session379_OD_(-7,-2)_1.04x1.04_3107_OA790nm1_extract_reg_cropped_cords.csv\n",
      ".\\data\\registered-videos-2\\marked\\Subject52_Session404_OD_(0,-3)_1.04x1.04_3466_OA790nm1_extract_reg_cropped_marked.avi<->\n",
      ".\\data\\registered-videos-2\\marked\\Subject52_Session404_OD_(0,-3)_1.04x1.04_3466_OA790nm1_extract_reg_cropped_cords.csv\n",
      ".\\data\\registered-videos-2\\marked\\Subject52_Session404_OD_(0,-4)_1.04x1.04_3465_OA790nm1_extract_reg_cropped_marked.avi<->\n",
      ".\\data\\registered-videos-2\\marked\\Subject52_Session404_OD_(0,-4)_1.04x1.04_3465_OA790nm1_extract_reg_cropped_cords.csv\n",
      ".\\data\\registered-videos-2\\marked\\Subject52_Session408_OD_(0,-5)_1.04x1.04_3576_OA790nm1_extract_reg_cropped_marked.avi<->\n",
      ".\\data\\registered-videos-2\\marked\\Subject52_Session408_OD_(0,-5)_1.04x1.04_3576_OA790nm1_extract_reg_cropped_cords.csv\n",
      "\n",
      "\n",
      "Creating dataset from cell and non cell patches\n",
      "-----------------------------------------------\n",
      "Splitting into training set and validation set\n",
      "\n",
      "Saving datasets\n",
      "---------------\n",
      "Saved training set as: '.\\data\\cache\\datasets\\trainset_bloodcells_ps_21_hm_false_npp_5.pt'\n",
      "Saved validation set as: '.\\data\\cache\\datasets\\validset_bloodcells_ps_21_hm_false_npp_5.pt'\n",
      "Saving cell and non cell images\n",
      "Saved cell images as: '.\\data\\cache\\datasets\\bloodcells_ps_21_hm_false_npp_5.npy'\n",
      "Saved non cell images as: '.\\data\\cache\\datasets\\non_bloodcells_ps_21_hm_false_npp_5.npy'\n",
      "Saved marked cell images (for debugging) as: '.\\data\\cache\\datasets\\bloodcells_ps_21_hm_false_npp_5_marked.npy'\n",
      "Saved marked non cell images (for debugging) as: '.\\data\\cache\\datasets\\non_bloodcells_ps_21_hm_false_npp_5_marked.npy'\n",
      "Cell images: (12957, 21, 21)\n",
      "Non cell images (63331, 21, 21)\n",
      "Cell images: (12957, 21, 21)\n",
      "Non cell images (63331, 21, 21)\n",
      "patch size (21, 21)\n",
      "do hist match: True\n",
      "Negatives per positive 5\n",
      "\n",
      "Dataset loading from cache\n",
      "--------------------------\n",
      "loading training set from '.\\data\\cache\\datasets\\trainset_bloodcells_ps_21_hm_true_npp_5.pt'...\n",
      "Not all data found fom cache. Creating datasets...\n",
      "Creating cell and no cell images from videos...\n"
     ]
    },
    {
     "data": {
      "application/vnd.jupyter.widget-view+json": {
       "model_id": "a479f5a0e69c460eb5c689f4a9e4c201",
       "version_major": 2,
       "version_minor": 0
      },
      "text/plain": [
       "HBox(children=(FloatProgress(value=0.0, max=10.0), HTML(value='')))"
      ]
     },
     "metadata": {},
     "output_type": "display_data"
    },
    {
     "name": "stdout",
     "output_type": "stream",
     "text": [
      ".\\data\\shared-videos\\Subject3_Session216_OD_(0,0)_1x1_980_OA790nm_dewarped.avi<->\n",
      ".\\data\\shared-videos\\Subject3_Session216_OD_(0,0)_1x1_980_OA790nm_marked.csv\n",
      ".\\data\\shared-videos\\Subject50_Session385_OD_(0,-1)_1.04x1.04_3247_OA790nm.avi<->\n",
      ".\\data\\shared-videos\\Subject50_Session385_OD_(0,-1)_1.04x1.04_3247_OA790nm_marked.csv\n",
      ".\\data\\registered-videos-2\\Subject25_Session298_OD_(-2,0)_1.03x1_1642_OA790nm_dewarped1_extract_reg_cropped.avi<->\n",
      ".\\data\\registered-videos-2\\marked\\Subject25_Session298_OD_(-2,0)_1.03x1_1642_OA790nm_dewarped1_extract_reg_cropped_cords.csv\n",
      ".\\data\\registered-videos-2\\Subject3_Session217_OS_(2,0)_1x1_988_OA790nm_dewarped1_extract_reg_cropped.avi<->\n",
      ".\\data\\registered-videos-2\\marked\\Subject3_Session217_OS_(2,0)_1x1_988_OA790nm_dewarped1_extract_reg_cropped_cords.csv\n",
      ".\\data\\registered-videos-2\\Subject47_Session375_OD_(0,-1)_1.04x1.04_3056_OA790nm1_extract_reg_cropped.avi<->\n",
      ".\\data\\registered-videos-2\\marked\\Subject47_Session375_OD_(0,-1)_1.04x1.04_3056_OA790nm1_extract_reg_cropped_coords.csv\n",
      ".\\data\\registered-videos-2\\Subject48_Session379_OD_(-10,0)_1.04x1.04_3111_OA790nm1_extract_reg_cropped.avi<->\n",
      ".\\data\\registered-videos-2\\marked\\Subject48_Session379_OD_(-10,0)_1.04x1.04_3111_OA790nm1_extract_reg_cropped_cords.csv\n",
      ".\\data\\registered-videos-2\\Subject48_Session379_OD_(-7,-2)_1.04x1.04_3107_OA790nm1_extract_reg_cropped.avi<->\n",
      ".\\data\\registered-videos-2\\marked\\Subject48_Session379_OD_(-7,-2)_1.04x1.04_3107_OA790nm1_extract_reg_cropped_cords.csv\n",
      ".\\data\\registered-videos-2\\Subject52_Session404_OD_(0,-3)_1.04x1.04_3466_OA790nm1_extract_reg_cropped.avi<->\n",
      ".\\data\\registered-videos-2\\marked\\Subject52_Session404_OD_(0,-3)_1.04x1.04_3466_OA790nm1_extract_reg_cropped_cords.csv\n",
      ".\\data\\registered-videos-2\\Subject52_Session404_OD_(0,-4)_1.04x1.04_3465_OA790nm1_extract_reg_cropped.avi<->\n",
      ".\\data\\registered-videos-2\\marked\\Subject52_Session404_OD_(0,-4)_1.04x1.04_3465_OA790nm1_extract_reg_cropped_cords.csv\n",
      ".\\data\\registered-videos-2\\Subject52_Session408_OD_(0,-5)_1.04x1.04_3576_OA790nm1_extract_reg_cropped.avi<->\n",
      ".\\data\\registered-videos-2\\marked\\Subject52_Session408_OD_(0,-5)_1.04x1.04_3576_OA790nm1_extract_reg_cropped_cords.csv\n",
      "\n",
      "Creating cell patches from marked videos for debugging...\n"
     ]
    },
    {
     "data": {
      "application/vnd.jupyter.widget-view+json": {
       "model_id": "ce5bdd62ef514e748d31c02e95b37c54",
       "version_major": 2,
       "version_minor": 0
      },
      "text/plain": [
       "HBox(children=(FloatProgress(value=0.0, max=10.0), HTML(value='')))"
      ]
     },
     "metadata": {},
     "output_type": "display_data"
    },
    {
     "name": "stdout",
     "output_type": "stream",
     "text": [
      ".\\data\\shared-videos\\Subject3_Session216_OD_(0,0)_1x1_980_OA790nm_marked.avi<->\n",
      ".\\data\\shared-videos\\Subject3_Session216_OD_(0,0)_1x1_980_OA790nm_marked.csv\n",
      ".\\data\\shared-videos\\Subject50_Session385_OD_(0,-1)_1.04x1.04_3247_OA790nm_marked.avi<->\n",
      ".\\data\\shared-videos\\Subject50_Session385_OD_(0,-1)_1.04x1.04_3247_OA790nm_marked.csv\n",
      ".\\data\\registered-videos-2\\marked\\Subject25_Session298_OD_(-2,0)_1.03x1_1642_OA790nm_dewarped1_extract_reg_cropped_marked.avi<->\n",
      ".\\data\\registered-videos-2\\marked\\Subject25_Session298_OD_(-2,0)_1.03x1_1642_OA790nm_dewarped1_extract_reg_cropped_cords.csv\n",
      ".\\data\\registered-videos-2\\marked\\Subject3_Session217_OS_(2,0)_1x1_988_OA790nm_dewarped1_extract_reg_cropped_marked.avi<->\n",
      ".\\data\\registered-videos-2\\marked\\Subject3_Session217_OS_(2,0)_1x1_988_OA790nm_dewarped1_extract_reg_cropped_cords.csv\n",
      ".\\data\\registered-videos-2\\marked\\Subject47_Session375_OD_(0,-1)_1.04x1.04_3056_OA790nm1_extract_reg_cropped_marked.avi<->\n",
      ".\\data\\registered-videos-2\\marked\\Subject47_Session375_OD_(0,-1)_1.04x1.04_3056_OA790nm1_extract_reg_cropped_coords.csv\n",
      ".\\data\\registered-videos-2\\marked\\Subject48_Session379_OD_(-10,0)_1.04x1.04_3111_OA790nm1_extract_reg_cropped_marked.avi<->\n",
      ".\\data\\registered-videos-2\\marked\\Subject48_Session379_OD_(-10,0)_1.04x1.04_3111_OA790nm1_extract_reg_cropped_cords.csv\n",
      ".\\data\\registered-videos-2\\marked\\Subject48_Session379_OD_(-7,-2)_1.04x1.04_3107_OA790nm1_extract_reg_cropped_marked.avi<->\n",
      ".\\data\\registered-videos-2\\marked\\Subject48_Session379_OD_(-7,-2)_1.04x1.04_3107_OA790nm1_extract_reg_cropped_cords.csv\n",
      ".\\data\\registered-videos-2\\marked\\Subject52_Session404_OD_(0,-3)_1.04x1.04_3466_OA790nm1_extract_reg_cropped_marked.avi<->\n",
      ".\\data\\registered-videos-2\\marked\\Subject52_Session404_OD_(0,-3)_1.04x1.04_3466_OA790nm1_extract_reg_cropped_cords.csv\n",
      ".\\data\\registered-videos-2\\marked\\Subject52_Session404_OD_(0,-4)_1.04x1.04_3465_OA790nm1_extract_reg_cropped_marked.avi<->\n",
      ".\\data\\registered-videos-2\\marked\\Subject52_Session404_OD_(0,-4)_1.04x1.04_3465_OA790nm1_extract_reg_cropped_cords.csv\n",
      ".\\data\\registered-videos-2\\marked\\Subject52_Session408_OD_(0,-5)_1.04x1.04_3576_OA790nm1_extract_reg_cropped_marked.avi<->\n",
      ".\\data\\registered-videos-2\\marked\\Subject52_Session408_OD_(0,-5)_1.04x1.04_3576_OA790nm1_extract_reg_cropped_cords.csv\n",
      "\n",
      "\n",
      "Creating dataset from cell and non cell patches\n",
      "-----------------------------------------------\n",
      "Splitting into training set and validation set\n",
      "\n",
      "Saving datasets\n",
      "---------------\n",
      "Saved training set as: '.\\data\\cache\\datasets\\trainset_bloodcells_ps_21_hm_true_npp_5.pt'\n",
      "Saved validation set as: '.\\data\\cache\\datasets\\validset_bloodcells_ps_21_hm_true_npp_5.pt'\n",
      "Saving cell and non cell images\n",
      "Saved cell images as: '.\\data\\cache\\datasets\\bloodcells_ps_21_hm_true_npp_5.npy'\n",
      "Saved non cell images as: '.\\data\\cache\\datasets\\non_bloodcells_ps_21_hm_true_npp_5.npy'\n",
      "Saved marked cell images (for debugging) as: '.\\data\\cache\\datasets\\bloodcells_ps_21_hm_true_npp_5_marked.npy'\n",
      "Saved marked non cell images (for debugging) as: '.\\data\\cache\\datasets\\non_bloodcells_ps_21_hm_true_npp_5_marked.npy'\n",
      "Cell images: (12957, 21, 21)\n",
      "Non cell images (63390, 21, 21)\n",
      "Cell images: (12957, 21, 21)\n",
      "Non cell images (63390, 21, 21)\n",
      "patch size (19, 19)\n",
      "do hist match: False\n",
      "Negatives per positive 5\n",
      "\n",
      "Dataset loading from cache\n",
      "--------------------------\n",
      "loading training set from '.\\data\\cache\\datasets\\trainset_bloodcells_ps_19_hm_false_npp_5.pt'...\n",
      "Not all data found fom cache. Creating datasets...\n",
      "Creating cell and no cell images from videos...\n"
     ]
    },
    {
     "data": {
      "application/vnd.jupyter.widget-view+json": {
       "model_id": "fc83130abeb849b7a68b0533988a422f",
       "version_major": 2,
       "version_minor": 0
      },
      "text/plain": [
       "HBox(children=(FloatProgress(value=0.0, max=10.0), HTML(value='')))"
      ]
     },
     "metadata": {},
     "output_type": "display_data"
    },
    {
     "name": "stdout",
     "output_type": "stream",
     "text": [
      ".\\data\\shared-videos\\Subject3_Session216_OD_(0,0)_1x1_980_OA790nm_dewarped.avi<->\n",
      ".\\data\\shared-videos\\Subject3_Session216_OD_(0,0)_1x1_980_OA790nm_marked.csv\n",
      ".\\data\\shared-videos\\Subject50_Session385_OD_(0,-1)_1.04x1.04_3247_OA790nm.avi<->\n",
      ".\\data\\shared-videos\\Subject50_Session385_OD_(0,-1)_1.04x1.04_3247_OA790nm_marked.csv\n",
      ".\\data\\registered-videos-2\\Subject25_Session298_OD_(-2,0)_1.03x1_1642_OA790nm_dewarped1_extract_reg_cropped.avi<->\n",
      ".\\data\\registered-videos-2\\marked\\Subject25_Session298_OD_(-2,0)_1.03x1_1642_OA790nm_dewarped1_extract_reg_cropped_cords.csv\n",
      ".\\data\\registered-videos-2\\Subject3_Session217_OS_(2,0)_1x1_988_OA790nm_dewarped1_extract_reg_cropped.avi<->\n",
      ".\\data\\registered-videos-2\\marked\\Subject3_Session217_OS_(2,0)_1x1_988_OA790nm_dewarped1_extract_reg_cropped_cords.csv\n",
      ".\\data\\registered-videos-2\\Subject47_Session375_OD_(0,-1)_1.04x1.04_3056_OA790nm1_extract_reg_cropped.avi<->\n",
      ".\\data\\registered-videos-2\\marked\\Subject47_Session375_OD_(0,-1)_1.04x1.04_3056_OA790nm1_extract_reg_cropped_coords.csv\n",
      ".\\data\\registered-videos-2\\Subject48_Session379_OD_(-10,0)_1.04x1.04_3111_OA790nm1_extract_reg_cropped.avi<->\n",
      ".\\data\\registered-videos-2\\marked\\Subject48_Session379_OD_(-10,0)_1.04x1.04_3111_OA790nm1_extract_reg_cropped_cords.csv\n",
      ".\\data\\registered-videos-2\\Subject48_Session379_OD_(-7,-2)_1.04x1.04_3107_OA790nm1_extract_reg_cropped.avi<->\n",
      ".\\data\\registered-videos-2\\marked\\Subject48_Session379_OD_(-7,-2)_1.04x1.04_3107_OA790nm1_extract_reg_cropped_cords.csv\n",
      ".\\data\\registered-videos-2\\Subject52_Session404_OD_(0,-3)_1.04x1.04_3466_OA790nm1_extract_reg_cropped.avi<->\n",
      ".\\data\\registered-videos-2\\marked\\Subject52_Session404_OD_(0,-3)_1.04x1.04_3466_OA790nm1_extract_reg_cropped_cords.csv\n",
      ".\\data\\registered-videos-2\\Subject52_Session404_OD_(0,-4)_1.04x1.04_3465_OA790nm1_extract_reg_cropped.avi<->\n",
      ".\\data\\registered-videos-2\\marked\\Subject52_Session404_OD_(0,-4)_1.04x1.04_3465_OA790nm1_extract_reg_cropped_cords.csv\n",
      ".\\data\\registered-videos-2\\Subject52_Session408_OD_(0,-5)_1.04x1.04_3576_OA790nm1_extract_reg_cropped.avi<->\n",
      ".\\data\\registered-videos-2\\marked\\Subject52_Session408_OD_(0,-5)_1.04x1.04_3576_OA790nm1_extract_reg_cropped_cords.csv\n",
      "\n",
      "Creating cell patches from marked videos for debugging...\n"
     ]
    },
    {
     "data": {
      "application/vnd.jupyter.widget-view+json": {
       "model_id": "440bb9f53c794aadab432b459018e417",
       "version_major": 2,
       "version_minor": 0
      },
      "text/plain": [
       "HBox(children=(FloatProgress(value=0.0, max=10.0), HTML(value='')))"
      ]
     },
     "metadata": {},
     "output_type": "display_data"
    },
    {
     "name": "stdout",
     "output_type": "stream",
     "text": [
      ".\\data\\shared-videos\\Subject3_Session216_OD_(0,0)_1x1_980_OA790nm_marked.avi<->\n",
      ".\\data\\shared-videos\\Subject3_Session216_OD_(0,0)_1x1_980_OA790nm_marked.csv\n",
      ".\\data\\shared-videos\\Subject50_Session385_OD_(0,-1)_1.04x1.04_3247_OA790nm_marked.avi<->\n",
      ".\\data\\shared-videos\\Subject50_Session385_OD_(0,-1)_1.04x1.04_3247_OA790nm_marked.csv\n",
      ".\\data\\registered-videos-2\\marked\\Subject25_Session298_OD_(-2,0)_1.03x1_1642_OA790nm_dewarped1_extract_reg_cropped_marked.avi<->\n",
      ".\\data\\registered-videos-2\\marked\\Subject25_Session298_OD_(-2,0)_1.03x1_1642_OA790nm_dewarped1_extract_reg_cropped_cords.csv\n",
      ".\\data\\registered-videos-2\\marked\\Subject3_Session217_OS_(2,0)_1x1_988_OA790nm_dewarped1_extract_reg_cropped_marked.avi<->\n",
      ".\\data\\registered-videos-2\\marked\\Subject3_Session217_OS_(2,0)_1x1_988_OA790nm_dewarped1_extract_reg_cropped_cords.csv\n",
      ".\\data\\registered-videos-2\\marked\\Subject47_Session375_OD_(0,-1)_1.04x1.04_3056_OA790nm1_extract_reg_cropped_marked.avi<->\n",
      ".\\data\\registered-videos-2\\marked\\Subject47_Session375_OD_(0,-1)_1.04x1.04_3056_OA790nm1_extract_reg_cropped_coords.csv\n",
      ".\\data\\registered-videos-2\\marked\\Subject48_Session379_OD_(-10,0)_1.04x1.04_3111_OA790nm1_extract_reg_cropped_marked.avi<->\n",
      ".\\data\\registered-videos-2\\marked\\Subject48_Session379_OD_(-10,0)_1.04x1.04_3111_OA790nm1_extract_reg_cropped_cords.csv\n",
      ".\\data\\registered-videos-2\\marked\\Subject48_Session379_OD_(-7,-2)_1.04x1.04_3107_OA790nm1_extract_reg_cropped_marked.avi<->\n",
      ".\\data\\registered-videos-2\\marked\\Subject48_Session379_OD_(-7,-2)_1.04x1.04_3107_OA790nm1_extract_reg_cropped_cords.csv\n",
      ".\\data\\registered-videos-2\\marked\\Subject52_Session404_OD_(0,-3)_1.04x1.04_3466_OA790nm1_extract_reg_cropped_marked.avi<->\n",
      ".\\data\\registered-videos-2\\marked\\Subject52_Session404_OD_(0,-3)_1.04x1.04_3466_OA790nm1_extract_reg_cropped_cords.csv\n",
      ".\\data\\registered-videos-2\\marked\\Subject52_Session404_OD_(0,-4)_1.04x1.04_3465_OA790nm1_extract_reg_cropped_marked.avi<->\n",
      ".\\data\\registered-videos-2\\marked\\Subject52_Session404_OD_(0,-4)_1.04x1.04_3465_OA790nm1_extract_reg_cropped_cords.csv\n",
      ".\\data\\registered-videos-2\\marked\\Subject52_Session408_OD_(0,-5)_1.04x1.04_3576_OA790nm1_extract_reg_cropped_marked.avi<->\n",
      ".\\data\\registered-videos-2\\marked\\Subject52_Session408_OD_(0,-5)_1.04x1.04_3576_OA790nm1_extract_reg_cropped_cords.csv\n",
      "\n",
      "\n",
      "Creating dataset from cell and non cell patches\n",
      "-----------------------------------------------\n",
      "Splitting into training set and validation set\n",
      "\n",
      "Saving datasets\n",
      "---------------\n",
      "Saved training set as: '.\\data\\cache\\datasets\\trainset_bloodcells_ps_19_hm_false_npp_5.pt'\n",
      "Saved validation set as: '.\\data\\cache\\datasets\\validset_bloodcells_ps_19_hm_false_npp_5.pt'\n",
      "Saving cell and non cell images\n",
      "Saved cell images as: '.\\data\\cache\\datasets\\bloodcells_ps_19_hm_false_npp_5.npy'\n",
      "Saved non cell images as: '.\\data\\cache\\datasets\\non_bloodcells_ps_19_hm_false_npp_5.npy'\n",
      "Saved marked cell images (for debugging) as: '.\\data\\cache\\datasets\\bloodcells_ps_19_hm_false_npp_5_marked.npy'\n",
      "Saved marked non cell images (for debugging) as: '.\\data\\cache\\datasets\\non_bloodcells_ps_19_hm_false_npp_5_marked.npy'\n",
      "Cell images: (12989, 19, 19)\n",
      "Non cell images (63567, 19, 19)\n",
      "Cell images: (12989, 19, 19)\n",
      "Non cell images (63567, 19, 19)\n",
      "patch size (19, 19)\n",
      "do hist match: True\n",
      "Negatives per positive 5\n",
      "\n",
      "Dataset loading from cache\n",
      "--------------------------\n",
      "loading training set from '.\\data\\cache\\datasets\\trainset_bloodcells_ps_19_hm_true_npp_5.pt'...\n",
      "Not all data found fom cache. Creating datasets...\n",
      "Creating cell and no cell images from videos...\n"
     ]
    },
    {
     "data": {
      "application/vnd.jupyter.widget-view+json": {
       "model_id": "a88472a386ff4b7a89860efbbd3422c9",
       "version_major": 2,
       "version_minor": 0
      },
      "text/plain": [
       "HBox(children=(FloatProgress(value=0.0, max=10.0), HTML(value='')))"
      ]
     },
     "metadata": {},
     "output_type": "display_data"
    },
    {
     "name": "stdout",
     "output_type": "stream",
     "text": [
      ".\\data\\shared-videos\\Subject3_Session216_OD_(0,0)_1x1_980_OA790nm_dewarped.avi<->\n",
      ".\\data\\shared-videos\\Subject3_Session216_OD_(0,0)_1x1_980_OA790nm_marked.csv\n",
      ".\\data\\shared-videos\\Subject50_Session385_OD_(0,-1)_1.04x1.04_3247_OA790nm.avi<->\n",
      ".\\data\\shared-videos\\Subject50_Session385_OD_(0,-1)_1.04x1.04_3247_OA790nm_marked.csv\n",
      ".\\data\\registered-videos-2\\Subject25_Session298_OD_(-2,0)_1.03x1_1642_OA790nm_dewarped1_extract_reg_cropped.avi<->\n",
      ".\\data\\registered-videos-2\\marked\\Subject25_Session298_OD_(-2,0)_1.03x1_1642_OA790nm_dewarped1_extract_reg_cropped_cords.csv\n",
      ".\\data\\registered-videos-2\\Subject3_Session217_OS_(2,0)_1x1_988_OA790nm_dewarped1_extract_reg_cropped.avi<->\n",
      ".\\data\\registered-videos-2\\marked\\Subject3_Session217_OS_(2,0)_1x1_988_OA790nm_dewarped1_extract_reg_cropped_cords.csv\n",
      ".\\data\\registered-videos-2\\Subject47_Session375_OD_(0,-1)_1.04x1.04_3056_OA790nm1_extract_reg_cropped.avi<->\n",
      ".\\data\\registered-videos-2\\marked\\Subject47_Session375_OD_(0,-1)_1.04x1.04_3056_OA790nm1_extract_reg_cropped_coords.csv\n",
      ".\\data\\registered-videos-2\\Subject48_Session379_OD_(-10,0)_1.04x1.04_3111_OA790nm1_extract_reg_cropped.avi<->\n",
      ".\\data\\registered-videos-2\\marked\\Subject48_Session379_OD_(-10,0)_1.04x1.04_3111_OA790nm1_extract_reg_cropped_cords.csv\n",
      ".\\data\\registered-videos-2\\Subject48_Session379_OD_(-7,-2)_1.04x1.04_3107_OA790nm1_extract_reg_cropped.avi<->\n",
      ".\\data\\registered-videos-2\\marked\\Subject48_Session379_OD_(-7,-2)_1.04x1.04_3107_OA790nm1_extract_reg_cropped_cords.csv\n",
      ".\\data\\registered-videos-2\\Subject52_Session404_OD_(0,-3)_1.04x1.04_3466_OA790nm1_extract_reg_cropped.avi<->\n",
      ".\\data\\registered-videos-2\\marked\\Subject52_Session404_OD_(0,-3)_1.04x1.04_3466_OA790nm1_extract_reg_cropped_cords.csv\n",
      ".\\data\\registered-videos-2\\Subject52_Session404_OD_(0,-4)_1.04x1.04_3465_OA790nm1_extract_reg_cropped.avi<->\n",
      ".\\data\\registered-videos-2\\marked\\Subject52_Session404_OD_(0,-4)_1.04x1.04_3465_OA790nm1_extract_reg_cropped_cords.csv\n",
      ".\\data\\registered-videos-2\\Subject52_Session408_OD_(0,-5)_1.04x1.04_3576_OA790nm1_extract_reg_cropped.avi<->\n",
      ".\\data\\registered-videos-2\\marked\\Subject52_Session408_OD_(0,-5)_1.04x1.04_3576_OA790nm1_extract_reg_cropped_cords.csv\n",
      "\n",
      "Creating cell patches from marked videos for debugging...\n"
     ]
    },
    {
     "data": {
      "application/vnd.jupyter.widget-view+json": {
       "model_id": "e8d3f92bf4eb45ca86a4f6b463f19d31",
       "version_major": 2,
       "version_minor": 0
      },
      "text/plain": [
       "HBox(children=(FloatProgress(value=0.0, max=10.0), HTML(value='')))"
      ]
     },
     "metadata": {},
     "output_type": "display_data"
    },
    {
     "name": "stdout",
     "output_type": "stream",
     "text": [
      ".\\data\\shared-videos\\Subject3_Session216_OD_(0,0)_1x1_980_OA790nm_marked.avi<->\n",
      ".\\data\\shared-videos\\Subject3_Session216_OD_(0,0)_1x1_980_OA790nm_marked.csv\n",
      ".\\data\\shared-videos\\Subject50_Session385_OD_(0,-1)_1.04x1.04_3247_OA790nm_marked.avi<->\n",
      ".\\data\\shared-videos\\Subject50_Session385_OD_(0,-1)_1.04x1.04_3247_OA790nm_marked.csv\n",
      ".\\data\\registered-videos-2\\marked\\Subject25_Session298_OD_(-2,0)_1.03x1_1642_OA790nm_dewarped1_extract_reg_cropped_marked.avi<->\n",
      ".\\data\\registered-videos-2\\marked\\Subject25_Session298_OD_(-2,0)_1.03x1_1642_OA790nm_dewarped1_extract_reg_cropped_cords.csv\n",
      ".\\data\\registered-videos-2\\marked\\Subject3_Session217_OS_(2,0)_1x1_988_OA790nm_dewarped1_extract_reg_cropped_marked.avi<->\n",
      ".\\data\\registered-videos-2\\marked\\Subject3_Session217_OS_(2,0)_1x1_988_OA790nm_dewarped1_extract_reg_cropped_cords.csv\n",
      ".\\data\\registered-videos-2\\marked\\Subject47_Session375_OD_(0,-1)_1.04x1.04_3056_OA790nm1_extract_reg_cropped_marked.avi<->\n",
      ".\\data\\registered-videos-2\\marked\\Subject47_Session375_OD_(0,-1)_1.04x1.04_3056_OA790nm1_extract_reg_cropped_coords.csv\n",
      ".\\data\\registered-videos-2\\marked\\Subject48_Session379_OD_(-10,0)_1.04x1.04_3111_OA790nm1_extract_reg_cropped_marked.avi<->\n",
      ".\\data\\registered-videos-2\\marked\\Subject48_Session379_OD_(-10,0)_1.04x1.04_3111_OA790nm1_extract_reg_cropped_cords.csv\n",
      ".\\data\\registered-videos-2\\marked\\Subject48_Session379_OD_(-7,-2)_1.04x1.04_3107_OA790nm1_extract_reg_cropped_marked.avi<->\n",
      ".\\data\\registered-videos-2\\marked\\Subject48_Session379_OD_(-7,-2)_1.04x1.04_3107_OA790nm1_extract_reg_cropped_cords.csv\n",
      ".\\data\\registered-videos-2\\marked\\Subject52_Session404_OD_(0,-3)_1.04x1.04_3466_OA790nm1_extract_reg_cropped_marked.avi<->\n",
      ".\\data\\registered-videos-2\\marked\\Subject52_Session404_OD_(0,-3)_1.04x1.04_3466_OA790nm1_extract_reg_cropped_cords.csv\n",
      ".\\data\\registered-videos-2\\marked\\Subject52_Session404_OD_(0,-4)_1.04x1.04_3465_OA790nm1_extract_reg_cropped_marked.avi<->\n",
      ".\\data\\registered-videos-2\\marked\\Subject52_Session404_OD_(0,-4)_1.04x1.04_3465_OA790nm1_extract_reg_cropped_cords.csv\n",
      ".\\data\\registered-videos-2\\marked\\Subject52_Session408_OD_(0,-5)_1.04x1.04_3576_OA790nm1_extract_reg_cropped_marked.avi<->\n",
      ".\\data\\registered-videos-2\\marked\\Subject52_Session408_OD_(0,-5)_1.04x1.04_3576_OA790nm1_extract_reg_cropped_cords.csv\n",
      "\n",
      "\n",
      "Creating dataset from cell and non cell patches\n",
      "-----------------------------------------------\n",
      "Splitting into training set and validation set\n",
      "\n",
      "Saving datasets\n",
      "---------------\n",
      "Saved training set as: '.\\data\\cache\\datasets\\trainset_bloodcells_ps_19_hm_true_npp_5.pt'\n",
      "Saved validation set as: '.\\data\\cache\\datasets\\validset_bloodcells_ps_19_hm_true_npp_5.pt'\n",
      "Saving cell and non cell images\n",
      "Saved cell images as: '.\\data\\cache\\datasets\\bloodcells_ps_19_hm_true_npp_5.npy'\n",
      "Saved non cell images as: '.\\data\\cache\\datasets\\non_bloodcells_ps_19_hm_true_npp_5.npy'\n",
      "Saved marked cell images (for debugging) as: '.\\data\\cache\\datasets\\bloodcells_ps_19_hm_true_npp_5_marked.npy'\n",
      "Saved marked non cell images (for debugging) as: '.\\data\\cache\\datasets\\non_bloodcells_ps_19_hm_true_npp_5_marked.npy'\n",
      "Cell images: (12989, 19, 19)\n",
      "Non cell images (63545, 19, 19)\n",
      "Cell images: (12989, 19, 19)\n",
      "Non cell images (63545, 19, 19)\n"
     ]
    }
   ],
   "source": [
    "dataset_creation_demo(patch_size=(21, 21), do_hist_match=False, n_negatives_per_positive=5)\n",
    "dataset_creation_demo(patch_size=(21, 21), do_hist_match=True, n_negatives_per_positive=5)\n",
    "dataset_creation_demo(patch_size=(19, 19), do_hist_match=False, n_negatives_per_positive=5)\n",
    "dataset_creation_demo(patch_size=(19, 19), do_hist_match=True, n_negatives_per_positive=5)"
   ]
  }
 ],
 "metadata": {
  "kernelspec": {
   "display_name": "Python 3",
   "language": "python",
   "name": "python3"
  },
  "language_info": {
   "codemirror_mode": {
    "name": "ipython",
    "version": 3
   },
   "file_extension": ".py",
   "mimetype": "text/x-python",
   "name": "python",
   "nbconvert_exporter": "python",
   "pygments_lexer": "ipython3",
   "version": "3.6.9"
  }
 },
 "nbformat": 4,
 "nbformat_minor": 2
}
